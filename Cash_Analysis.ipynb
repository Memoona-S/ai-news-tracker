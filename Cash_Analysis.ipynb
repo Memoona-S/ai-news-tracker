{
  "nbformat": 4,
  "nbformat_minor": 0,
  "metadata": {
    "colab": {
      "provenance": [],
      "authorship_tag": "ABX9TyPJE6U0iGZHbR9aKs66yoX4",
      "include_colab_link": true
    },
    "kernelspec": {
      "name": "python3",
      "display_name": "Python 3"
    },
    "language_info": {
      "name": "python"
    }
  },
  "cells": [
    {
      "cell_type": "markdown",
      "metadata": {
        "id": "view-in-github",
        "colab_type": "text"
      },
      "source": [
        "<a href=\"https://colab.research.google.com/github/Memoona-S/ai-news-tracker/blob/main/Cash_Analysis.ipynb\" target=\"_parent\"><img src=\"https://colab.research.google.com/assets/colab-badge.svg\" alt=\"Open In Colab\"/></a>"
      ]
    },
    {
      "cell_type": "code",
      "source": [
        "%%writefile requirements.txt\n",
        "streamlit\n",
        "pandas\n",
        "numpy\n",
        "matplotlib\n",
        "prophet\n",
        "openai\n",
        "python-dotenv\n",
        "openpyxl\n",
        "streamlit\n",
        "pandas\n",
        "matplotlib\n",
        "seaborn\n",
        "openai\n",
        "python-dotenv\n",
        "openai"
      ],
      "metadata": {
        "colab": {
          "base_uri": "https://localhost:8080/"
        },
        "id": "H2xFLTrKlTpH",
        "outputId": "acccbff3-bdfc-4a21-a639-b153cf0f6506"
      },
      "execution_count": 2,
      "outputs": [
        {
          "output_type": "stream",
          "name": "stdout",
          "text": [
            "Writing requirements.txt\n"
          ]
        }
      ]
    },
    {
      "cell_type": "code",
      "source": [
        "!pip install -r requirements.txt"
      ],
      "metadata": {
        "colab": {
          "base_uri": "https://localhost:8080/"
        },
        "collapsed": true,
        "id": "2HfEgpr7mDJW",
        "outputId": "c17d5b99-55e3-400f-ed44-d74cbeb5001a"
      },
      "execution_count": 3,
      "outputs": [
        {
          "output_type": "stream",
          "name": "stdout",
          "text": [
            "Collecting streamlit (from -r requirements.txt (line 1))\n",
            "  Downloading streamlit-1.45.1-py3-none-any.whl.metadata (8.9 kB)\n",
            "Requirement already satisfied: pandas in /usr/local/lib/python3.11/dist-packages (from -r requirements.txt (line 2)) (2.2.2)\n",
            "Requirement already satisfied: numpy in /usr/local/lib/python3.11/dist-packages (from -r requirements.txt (line 3)) (2.0.2)\n",
            "Requirement already satisfied: matplotlib in /usr/local/lib/python3.11/dist-packages (from -r requirements.txt (line 4)) (3.10.0)\n",
            "Requirement already satisfied: prophet in /usr/local/lib/python3.11/dist-packages (from -r requirements.txt (line 5)) (1.1.6)\n",
            "Collecting groq (from -r requirements.txt (line 6))\n",
            "  Downloading groq-0.25.0-py3-none-any.whl.metadata (15 kB)\n",
            "Collecting python-dotenv (from -r requirements.txt (line 7))\n",
            "  Downloading python_dotenv-1.1.0-py3-none-any.whl.metadata (24 kB)\n",
            "Requirement already satisfied: openpyxl in /usr/local/lib/python3.11/dist-packages (from -r requirements.txt (line 8)) (3.1.5)\n",
            "Requirement already satisfied: seaborn in /usr/local/lib/python3.11/dist-packages (from -r requirements.txt (line 12)) (0.13.2)\n",
            "Requirement already satisfied: openai in /usr/local/lib/python3.11/dist-packages (from -r requirements.txt (line 15)) (1.78.1)\n",
            "Requirement already satisfied: altair<6,>=4.0 in /usr/local/lib/python3.11/dist-packages (from streamlit->-r requirements.txt (line 1)) (5.5.0)\n",
            "Requirement already satisfied: blinker<2,>=1.5.0 in /usr/local/lib/python3.11/dist-packages (from streamlit->-r requirements.txt (line 1)) (1.9.0)\n",
            "Requirement already satisfied: cachetools<6,>=4.0 in /usr/local/lib/python3.11/dist-packages (from streamlit->-r requirements.txt (line 1)) (5.5.2)\n",
            "Requirement already satisfied: click<9,>=7.0 in /usr/local/lib/python3.11/dist-packages (from streamlit->-r requirements.txt (line 1)) (8.2.0)\n",
            "Requirement already satisfied: packaging<25,>=20 in /usr/local/lib/python3.11/dist-packages (from streamlit->-r requirements.txt (line 1)) (24.2)\n",
            "Requirement already satisfied: pillow<12,>=7.1.0 in /usr/local/lib/python3.11/dist-packages (from streamlit->-r requirements.txt (line 1)) (11.2.1)\n",
            "Requirement already satisfied: protobuf<7,>=3.20 in /usr/local/lib/python3.11/dist-packages (from streamlit->-r requirements.txt (line 1)) (5.29.4)\n",
            "Requirement already satisfied: pyarrow>=7.0 in /usr/local/lib/python3.11/dist-packages (from streamlit->-r requirements.txt (line 1)) (18.1.0)\n",
            "Requirement already satisfied: requests<3,>=2.27 in /usr/local/lib/python3.11/dist-packages (from streamlit->-r requirements.txt (line 1)) (2.32.3)\n",
            "Requirement already satisfied: tenacity<10,>=8.1.0 in /usr/local/lib/python3.11/dist-packages (from streamlit->-r requirements.txt (line 1)) (9.1.2)\n",
            "Requirement already satisfied: toml<2,>=0.10.1 in /usr/local/lib/python3.11/dist-packages (from streamlit->-r requirements.txt (line 1)) (0.10.2)\n",
            "Requirement already satisfied: typing-extensions<5,>=4.4.0 in /usr/local/lib/python3.11/dist-packages (from streamlit->-r requirements.txt (line 1)) (4.13.2)\n",
            "Collecting watchdog<7,>=2.1.5 (from streamlit->-r requirements.txt (line 1))\n",
            "  Downloading watchdog-6.0.0-py3-none-manylinux2014_x86_64.whl.metadata (44 kB)\n",
            "\u001b[2K     \u001b[90m━━━━━━━━━━━━━━━━━━━━━━━━━━━━━━━━━━━━━━━━\u001b[0m \u001b[32m44.3/44.3 kB\u001b[0m \u001b[31m2.5 MB/s\u001b[0m eta \u001b[36m0:00:00\u001b[0m\n",
            "\u001b[?25hRequirement already satisfied: gitpython!=3.1.19,<4,>=3.0.7 in /usr/local/lib/python3.11/dist-packages (from streamlit->-r requirements.txt (line 1)) (3.1.44)\n",
            "Collecting pydeck<1,>=0.8.0b4 (from streamlit->-r requirements.txt (line 1))\n",
            "  Downloading pydeck-0.9.1-py2.py3-none-any.whl.metadata (4.1 kB)\n",
            "Requirement already satisfied: tornado<7,>=6.0.3 in /usr/local/lib/python3.11/dist-packages (from streamlit->-r requirements.txt (line 1)) (6.4.2)\n",
            "Requirement already satisfied: python-dateutil>=2.8.2 in /usr/local/lib/python3.11/dist-packages (from pandas->-r requirements.txt (line 2)) (2.9.0.post0)\n",
            "Requirement already satisfied: pytz>=2020.1 in /usr/local/lib/python3.11/dist-packages (from pandas->-r requirements.txt (line 2)) (2025.2)\n",
            "Requirement already satisfied: tzdata>=2022.7 in /usr/local/lib/python3.11/dist-packages (from pandas->-r requirements.txt (line 2)) (2025.2)\n",
            "Requirement already satisfied: contourpy>=1.0.1 in /usr/local/lib/python3.11/dist-packages (from matplotlib->-r requirements.txt (line 4)) (1.3.2)\n",
            "Requirement already satisfied: cycler>=0.10 in /usr/local/lib/python3.11/dist-packages (from matplotlib->-r requirements.txt (line 4)) (0.12.1)\n",
            "Requirement already satisfied: fonttools>=4.22.0 in /usr/local/lib/python3.11/dist-packages (from matplotlib->-r requirements.txt (line 4)) (4.58.0)\n",
            "Requirement already satisfied: kiwisolver>=1.3.1 in /usr/local/lib/python3.11/dist-packages (from matplotlib->-r requirements.txt (line 4)) (1.4.8)\n",
            "Requirement already satisfied: pyparsing>=2.3.1 in /usr/local/lib/python3.11/dist-packages (from matplotlib->-r requirements.txt (line 4)) (3.2.3)\n",
            "Requirement already satisfied: cmdstanpy>=1.0.4 in /usr/local/lib/python3.11/dist-packages (from prophet->-r requirements.txt (line 5)) (1.2.5)\n",
            "Requirement already satisfied: holidays<1,>=0.25 in /usr/local/lib/python3.11/dist-packages (from prophet->-r requirements.txt (line 5)) (0.72)\n",
            "Requirement already satisfied: tqdm>=4.36.1 in /usr/local/lib/python3.11/dist-packages (from prophet->-r requirements.txt (line 5)) (4.67.1)\n",
            "Requirement already satisfied: importlib-resources in /usr/local/lib/python3.11/dist-packages (from prophet->-r requirements.txt (line 5)) (6.5.2)\n",
            "Requirement already satisfied: anyio<5,>=3.5.0 in /usr/local/lib/python3.11/dist-packages (from groq->-r requirements.txt (line 6)) (4.9.0)\n",
            "Requirement already satisfied: distro<2,>=1.7.0 in /usr/local/lib/python3.11/dist-packages (from groq->-r requirements.txt (line 6)) (1.9.0)\n",
            "Requirement already satisfied: httpx<1,>=0.23.0 in /usr/local/lib/python3.11/dist-packages (from groq->-r requirements.txt (line 6)) (0.28.1)\n",
            "Requirement already satisfied: pydantic<3,>=1.9.0 in /usr/local/lib/python3.11/dist-packages (from groq->-r requirements.txt (line 6)) (2.11.4)\n",
            "Requirement already satisfied: sniffio in /usr/local/lib/python3.11/dist-packages (from groq->-r requirements.txt (line 6)) (1.3.1)\n",
            "Requirement already satisfied: et-xmlfile in /usr/local/lib/python3.11/dist-packages (from openpyxl->-r requirements.txt (line 8)) (2.0.0)\n",
            "Requirement already satisfied: jiter<1,>=0.4.0 in /usr/local/lib/python3.11/dist-packages (from openai->-r requirements.txt (line 15)) (0.9.0)\n",
            "Requirement already satisfied: jinja2 in /usr/local/lib/python3.11/dist-packages (from altair<6,>=4.0->streamlit->-r requirements.txt (line 1)) (3.1.6)\n",
            "Requirement already satisfied: jsonschema>=3.0 in /usr/local/lib/python3.11/dist-packages (from altair<6,>=4.0->streamlit->-r requirements.txt (line 1)) (4.23.0)\n",
            "Requirement already satisfied: narwhals>=1.14.2 in /usr/local/lib/python3.11/dist-packages (from altair<6,>=4.0->streamlit->-r requirements.txt (line 1)) (1.39.0)\n",
            "Requirement already satisfied: idna>=2.8 in /usr/local/lib/python3.11/dist-packages (from anyio<5,>=3.5.0->groq->-r requirements.txt (line 6)) (3.10)\n",
            "Requirement already satisfied: stanio<2.0.0,>=0.4.0 in /usr/local/lib/python3.11/dist-packages (from cmdstanpy>=1.0.4->prophet->-r requirements.txt (line 5)) (0.5.1)\n",
            "Requirement already satisfied: gitdb<5,>=4.0.1 in /usr/local/lib/python3.11/dist-packages (from gitpython!=3.1.19,<4,>=3.0.7->streamlit->-r requirements.txt (line 1)) (4.0.12)\n",
            "Requirement already satisfied: certifi in /usr/local/lib/python3.11/dist-packages (from httpx<1,>=0.23.0->groq->-r requirements.txt (line 6)) (2025.4.26)\n",
            "Requirement already satisfied: httpcore==1.* in /usr/local/lib/python3.11/dist-packages (from httpx<1,>=0.23.0->groq->-r requirements.txt (line 6)) (1.0.9)\n",
            "Requirement already satisfied: h11>=0.16 in /usr/local/lib/python3.11/dist-packages (from httpcore==1.*->httpx<1,>=0.23.0->groq->-r requirements.txt (line 6)) (0.16.0)\n",
            "Requirement already satisfied: annotated-types>=0.6.0 in /usr/local/lib/python3.11/dist-packages (from pydantic<3,>=1.9.0->groq->-r requirements.txt (line 6)) (0.7.0)\n",
            "Requirement already satisfied: pydantic-core==2.33.2 in /usr/local/lib/python3.11/dist-packages (from pydantic<3,>=1.9.0->groq->-r requirements.txt (line 6)) (2.33.2)\n",
            "Requirement already satisfied: typing-inspection>=0.4.0 in /usr/local/lib/python3.11/dist-packages (from pydantic<3,>=1.9.0->groq->-r requirements.txt (line 6)) (0.4.0)\n",
            "Requirement already satisfied: six>=1.5 in /usr/local/lib/python3.11/dist-packages (from python-dateutil>=2.8.2->pandas->-r requirements.txt (line 2)) (1.17.0)\n",
            "Requirement already satisfied: charset-normalizer<4,>=2 in /usr/local/lib/python3.11/dist-packages (from requests<3,>=2.27->streamlit->-r requirements.txt (line 1)) (3.4.2)\n",
            "Requirement already satisfied: urllib3<3,>=1.21.1 in /usr/local/lib/python3.11/dist-packages (from requests<3,>=2.27->streamlit->-r requirements.txt (line 1)) (2.4.0)\n",
            "Requirement already satisfied: smmap<6,>=3.0.1 in /usr/local/lib/python3.11/dist-packages (from gitdb<5,>=4.0.1->gitpython!=3.1.19,<4,>=3.0.7->streamlit->-r requirements.txt (line 1)) (5.0.2)\n",
            "Requirement already satisfied: MarkupSafe>=2.0 in /usr/local/lib/python3.11/dist-packages (from jinja2->altair<6,>=4.0->streamlit->-r requirements.txt (line 1)) (3.0.2)\n",
            "Requirement already satisfied: attrs>=22.2.0 in /usr/local/lib/python3.11/dist-packages (from jsonschema>=3.0->altair<6,>=4.0->streamlit->-r requirements.txt (line 1)) (25.3.0)\n",
            "Requirement already satisfied: jsonschema-specifications>=2023.03.6 in /usr/local/lib/python3.11/dist-packages (from jsonschema>=3.0->altair<6,>=4.0->streamlit->-r requirements.txt (line 1)) (2025.4.1)\n",
            "Requirement already satisfied: referencing>=0.28.4 in /usr/local/lib/python3.11/dist-packages (from jsonschema>=3.0->altair<6,>=4.0->streamlit->-r requirements.txt (line 1)) (0.36.2)\n",
            "Requirement already satisfied: rpds-py>=0.7.1 in /usr/local/lib/python3.11/dist-packages (from jsonschema>=3.0->altair<6,>=4.0->streamlit->-r requirements.txt (line 1)) (0.24.0)\n",
            "Downloading streamlit-1.45.1-py3-none-any.whl (9.9 MB)\n",
            "\u001b[2K   \u001b[90m━━━━━━━━━━━━━━━━━━━━━━━━━━━━━━━━━━━━━━━━\u001b[0m \u001b[32m9.9/9.9 MB\u001b[0m \u001b[31m75.7 MB/s\u001b[0m eta \u001b[36m0:00:00\u001b[0m\n",
            "\u001b[?25hDownloading groq-0.25.0-py3-none-any.whl (129 kB)\n",
            "\u001b[2K   \u001b[90m━━━━━━━━━━━━━━━━━━━━━━━━━━━━━━━━━━━━━━━━\u001b[0m \u001b[32m129.4/129.4 kB\u001b[0m \u001b[31m11.7 MB/s\u001b[0m eta \u001b[36m0:00:00\u001b[0m\n",
            "\u001b[?25hDownloading python_dotenv-1.1.0-py3-none-any.whl (20 kB)\n",
            "Downloading pydeck-0.9.1-py2.py3-none-any.whl (6.9 MB)\n",
            "\u001b[2K   \u001b[90m━━━━━━━━━━━━━━━━━━━━━━━━━━━━━━━━━━━━━━━━\u001b[0m \u001b[32m6.9/6.9 MB\u001b[0m \u001b[31m101.4 MB/s\u001b[0m eta \u001b[36m0:00:00\u001b[0m\n",
            "\u001b[?25hDownloading watchdog-6.0.0-py3-none-manylinux2014_x86_64.whl (79 kB)\n",
            "\u001b[2K   \u001b[90m━━━━━━━━━━━━━━━━━━━━━━━━━━━━━━━━━━━━━━━━\u001b[0m \u001b[32m79.1/79.1 kB\u001b[0m \u001b[31m6.2 MB/s\u001b[0m eta \u001b[36m0:00:00\u001b[0m\n",
            "\u001b[?25hInstalling collected packages: watchdog, python-dotenv, pydeck, groq, streamlit\n",
            "Successfully installed groq-0.25.0 pydeck-0.9.1 python-dotenv-1.1.0 streamlit-1.45.1 watchdog-6.0.0\n"
          ]
        }
      ]
    },
    {
      "cell_type": "code",
      "source": [
        "%%writefile main.py\n",
        "# Import necessary libraries\n",
        "import streamlit as st                          # For creating interactive web app UI\n",
        "import pandas as pd                             # For data handling and analysis\n",
        "import matplotlib.pyplot as plt                 # For plotting graphs\n",
        "import seaborn as sns                           # For making beautiful heatmap visuals\n",
        "import os                                       # For accessing environment variables\n",
        "from openai import OpenAI                       # <-- Updated to OpenAI API (new line)\n",
        "from dotenv import load_dotenv                  # For securely loading API keys\n",
        "from operator import attrgetter                 # For date calculations\n",
        "\n",
        "# Load API key securely from .env file\n",
        "load_dotenv()\n",
        "OPENAI_API_KEY = os.getenv(\"OPENAI_API_KEY\")    # <-- Updated variable name (new line)\n",
        "\n",
        "# Check if the API key exists, stop app if not found\n",
        "if not OPENAI_API_KEY:\n",
        "    st.error(\"🚨 API Key is missing! Set it in Streamlit Secrets or a .env file.\")\n",
        "    st.stop()\n",
        "\n",
        "# Streamlit App UI: Title and instructions\n",
        "st.title(\"🤖 FP&A AI Agent - SaaS Cohort Analysis\")\n",
        "st.write(\"Upload an Excel file, analyze retention rates, and get AI-generated FP&A insights!\")\n",
        "\n",
        "# File uploader widget for user input (Excel files only)\n",
        "uploaded_file = st.file_uploader(\"📂 Upload your cohort data (Excel format)\", type=[\"xlsx\"])\n",
        "\n",
        "if uploaded_file:\n",
        "    # Read the uploaded Excel file into a pandas DataFrame\n",
        "    sales_data = pd.read_excel(uploaded_file)\n",
        "\n",
        "    # Convert \"Date\" column to a proper datetime format\n",
        "    sales_data['Date'] = pd.to_datetime(sales_data['Date'])\n",
        "\n",
        "    # Extract first month of purchase (cohort month) for each unique customer\n",
        "    sales_data['CohortMonth'] = sales_data.groupby('Customer_ID')['Date'].transform('min').dt.to_period('M')\n",
        "\n",
        "    # Calculate the month difference (CohortIndex) between purchase date and cohort month\n",
        "    sales_data['PurchaseMonth'] = sales_data['Date'].dt.to_period('M')\n",
        "    sales_data['CohortIndex'] = (sales_data['PurchaseMonth'] - sales_data['CohortMonth']).apply(attrgetter('n'))\n",
        "\n",
        "    # Pivot data to create cohort analysis table: counts unique customers in each cohort-month pair\n",
        "    cohort_counts = sales_data.pivot_table(\n",
        "        index='CohortMonth',\n",
        "        columns='CohortIndex',\n",
        "        values='Customer_ID',\n",
        "        aggfunc='nunique'\n",
        "    )\n",
        "\n",
        "    # Calculate retention rates (percentages retained each month)\n",
        "    cohort_sizes = cohort_counts.iloc[:, 0]\n",
        "    retention_rate = cohort_counts.divide(cohort_sizes, axis=0)\n",
        "\n",
        "    # Display a preview of the data to the user\n",
        "    st.subheader(\"📊 Data Preview\")\n",
        "    st.dataframe(sales_data.head())\n",
        "\n",
        "    # Plot and display retention rate heatmap\n",
        "    st.subheader(\"🔥 Retention Rate Heatmap\")\n",
        "    plt.figure(figsize=(16, 9))  # Set plot size\n",
        "    sns.heatmap(retention_rate, annot=True, fmt=\".0%\", cmap=\"YlGnBu\", linewidths=0.5)  # Create heatmap\n",
        "    plt.title('Cohort Analysis - Retention Rate', fontsize=16)\n",
        "    plt.xlabel('Months Since First Purchase', fontsize=12)\n",
        "    plt.ylabel('Cohort Month', fontsize=12)\n",
        "    plt.tight_layout()  # Adjust layout for clear visuals\n",
        "    st.pyplot(plt)  # Display plot in Streamlit\n",
        "\n",
        "    # Prepare text summary of cohort analysis to send to AI\n",
        "    cohort_summary = f\"\"\"\n",
        "    📌 **Cohort Analysis Summary**:\n",
        "    - Number of Cohorts: {len(cohort_counts)}\n",
        "    - Retention Rate Breakdown:\n",
        "    {retention_rate.to_string()}\n",
        "    \"\"\"\n",
        "\n",
        "    # Streamlit section for AI commentary\n",
        "    st.subheader(\"🤖 AI Agent - FP&A Commentary\")\n",
        "\n",
        "    # User input text area for custom prompts/questions\n",
        "    user_prompt = st.text_area(\n",
        "        \"📝 Enter your question for the AI:\",\n",
        "        \"Analyze the cohort retention data and provide key FP&A insights.\"\n",
        "    )\n",
        "\n",
        "    # Button to trigger AI commentary generation\n",
        "    if st.button(\"🚀 Generate AI Commentary\"):\n",
        "\n",
        "        # Initialize OpenAI API client (updated section)\n",
        "        client = OpenAI(OPENAI_API_KEY)  # <-- Updated client initialization\n",
        "\n",
        "        # Send the cohort summary and user prompt to OpenAI GPT-4o model\n",
        "        response = client.chat.completions.create(\n",
        "            model=\"gpt-4o\",   # <-- Updated to GPT-4o\n",
        "            messages=[\n",
        "                {\"role\": \"system\",\n",
        "                 \"content\": \"You are an expert FP&A analyst providing detailed financial insights.\"},\n",
        "                {\"role\": \"user\",\n",
        "                 \"content\": f\"The cohort retention analysis is summarized below:\\n{cohort_summary}\\n\\n{user_prompt}\"}\n",
        "            ]\n",
        "        )\n",
        "\n",
        "        # Extract AI-generated commentary from OpenAI response\n",
        "        ai_commentary = response.choices[0].message.content\n",
        "\n",
        "        # Display AI-generated insights clearly to user\n",
        "        st.subheader(\"💡 AI-Generated FP&A Insights\")\n",
        "        st.write(ai_commentary)\n",
        "\n"
      ],
      "metadata": {
        "colab": {
          "base_uri": "https://localhost:8080/"
        },
        "id": "_WTmG6B1p1Qf",
        "outputId": "b5d5caa7-5c86-4fa6-fb6a-d64a5754615a"
      },
      "execution_count": 8,
      "outputs": [
        {
          "output_type": "stream",
          "name": "stdout",
          "text": [
            "Overwriting main.py\n"
          ]
        }
      ]
    },
    {
      "cell_type": "code",
      "source": [
        "\n"
      ],
      "metadata": {
        "id": "8PhQCydeqAp2"
      },
      "execution_count": null,
      "outputs": []
    }
  ]
}